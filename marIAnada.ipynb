{
 "cells": [
  {
   "cell_type": "code",
   "execution_count": null,
   "metadata": {},
   "outputs": [],
   "source": [
    "# Bibliotecas Importadas\n",
    "import tensorflow as tf\n",
    "import matplotlib.pyplot as plt\n",
    "import os\n",
    "import pandas as pd\n",
    "import numpy as np\n",
    "     \n",
    "\n",
    "# Criação das variáveis dataset poluição\n",
    "dataset_dir = os.path.join(os.getcwd(), 'oceano')\n",
    "\n",
    "dataset_train_dir = os.path.join(dataset_dir, 'train')\n",
    "dataset_train_poluicao_len = len(os.listdir(os.path.join(dataset_train_dir, 'poluicao')))\n",
    "dataset_train_nao_poluicao_len = len(os.listdir(os.path.join(dataset_train_dir, 'nao_poluicao')))\n",
    "\n",
    "dataset_validation_dir = os.path.join(dataset_dir, 'validation')\n",
    "dataset_validation_poluicao_len = len(os.listdir(os.path.join(dataset_validation_dir, 'poluicao')))\n",
    "dataset_validation_nao_poluicao_len = len(os.listdir(os.path.join(dataset_validation_dir, 'nao_poluicao')))\n",
    "\n",
    "print('Train Poluicao: %s' % dataset_train_poluicao_len)\n",
    "print('Train Não Poluicao: %s' % dataset_train_nao_poluicao_len)\n",
    "print('Validation Poluicao: %s' % dataset_validation_poluicao_len)\n",
    "print('Validation Não Poluicao: %s' % dataset_validation_nao_poluicao_len)\n",
    "\n",
    "from PIL import Image\n",
    "import os\n",
    "\n",
    "def preprocess_image(image_path):\n",
    "    image = Image.open(image_path)\n",
    "    image = image.resize((224, 224))\n",
    "    image = image.convert(\"RGB\")\n",
    "    return image\n",
    "\n",
    "image_dir = \"images/\"\n",
    "preprocessed_images = []\n",
    "\n",
    "for filename in os.listdir(image_dir):\n",
    "    if filename.endswith(\".jpg\"):\n",
    "        image_path = os.path.join(image_dir, filename)\n",
    "        preprocessed_image = preprocess_image(image_path)\n",
    "        preprocessed_images.append(preprocessed_image) "
   ]
  }
 ],
 "metadata": {
  "language_info": {
   "name": "python"
  }
 },
 "nbformat": 4,
 "nbformat_minor": 2
}
